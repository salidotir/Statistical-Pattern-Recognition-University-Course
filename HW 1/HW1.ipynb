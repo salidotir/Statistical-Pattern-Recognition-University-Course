{
 "cells": [
  {
   "cell_type": "code",
   "execution_count": 34,
   "id": "97db9921",
   "metadata": {},
   "outputs": [],
   "source": [
    "# imports\n",
    "\n",
    "import PreprocessData\n",
    "import numpy as np\n",
    "import pandas as pd\n",
    "import matplotlib.pyplot as plt\n",
    "from matplotlib.pyplot import figure\n",
    "import random"
   ]
  },
  {
   "cell_type": "markdown",
   "id": "ca59fde6",
   "metadata": {},
   "source": [
    "## Regression Class\n",
    "\n",
    "* Objective function (MSE) is defined as:\n",
    "\n",
    "> $J(\\theta) = \\frac{1}{2} \\sum \\limits _{j=1} ^{m} (\\hat{y}^{j} - y^{j}) ^ 2 $\n",
    "\n",
    "* \"fit\" function definition is empty in Regression class and will be filled later in each of ClosedForm & GradientDescent.\n",
    "\n",
    "* In \"report\" function, $\\theta$s and MSE of each data-test and data-train is reported."
   ]
  },
  {
   "cell_type": "code",
   "execution_count": 2,
   "id": "99c1c735",
   "metadata": {},
   "outputs": [],
   "source": [
    "class Regression():\n",
    "    def __init__(self):\n",
    "        self.theta = None           # ndarray(n,1)\n",
    "           \n",
    "    def mse_with_input(self, X, y): \n",
    "        '''\n",
    "        X is ndarray(m,n)\n",
    "        y is ndarray(m,)            **attention: like exactly dataset.y_train\n",
    "        '''\n",
    "        y = np.array([y]).T\n",
    "        y_pred = self.predict(X)\n",
    "        return np.sum(np.square(y_pred - y))/2\n",
    "    \n",
    "    def mse(self, y_pred, y): \n",
    "        '''\n",
    "        y_pred & y are ndarray(m,1)\n",
    "        '''\n",
    "        return np.sum(np.square(y_pred - y))/2\n",
    "    \n",
    "    def predict(self, X):\n",
    "        '''\n",
    "        X is ndarray(m,n)\n",
    "        output is ndarray(m,1)\n",
    "        '''\n",
    "        return np.matmul(X, self.theta)\n",
    "    \n",
    "    def fit(self, x_train, y_train , eps=1e-7): \n",
    "        '''\n",
    "        y_train is ndarray (m,)          **attention: like exactly dataset.y_train\n",
    "        we change its dimention in this function to ndarray (m,1)\n",
    "        \n",
    "        output: self.theta\n",
    "        '''\n",
    "        # must fill self.theta                  \n",
    "        pass\n",
    "    \n",
    "    def plot(self, X, y, X_with_one, title ,label=None): \n",
    "        '''\n",
    "        X is ndarray(m,n)           -> without vector-x0\n",
    "        y is ndarray(m,)            **attention: like exactly dataset.y_train\n",
    "        '''      \n",
    "        plt.figure()\n",
    "        plt.scatter(X, np.array([y]).T)\n",
    "        plt.plot(X, self.predict(X_with_one), '-r', label=label)   \n",
    "        plt.legend(title=title)\n",
    "        plt.show()\n",
    "        return\n",
    "           \n",
    "    def report(self, x_train, y_train, x_test, y_test):\n",
    "        '''\n",
    "        x_train is ndarray(m,n)\n",
    "        y_train is ndarray(m,)           **attention: like exactly dataset.y_train\n",
    "        x_test is ndarray(m,n)\n",
    "        y_test is ndarray(m,)            **attention: like exactly dataset.y_train\n",
    "        '''\n",
    "        for i in range(len(self.theta)):\n",
    "            print('theta_',i, ': ', self.theta[i][0])\n",
    "        \n",
    "        print('MSE on train: ',self.mse_with_input(x_train, y_train))\n",
    "        print('MSE on test: ',self.mse_with_input(x_test, y_test))\n",
    "        return\n",
    "        "
   ]
  },
  {
   "cell_type": "markdown",
   "id": "b3dde680",
   "metadata": {},
   "source": [
    "## Closed-Form Class\n",
    "\n",
    "* We are going to implement linear regression model using closed-form solution.\n",
    "This class inherits from Regression class define above.\n",
    "\n",
    "* In this method, we define objective function $J(\\theta)$ as below:\n",
    "\n",
    "> $J(\\theta) = \\frac{1}{2} \\sum \\limits _{j=1} ^{m} (h_{\\theta}(X^{j}) - y^{j}) ^ 2 $\n",
    "\n",
    "* While $h_{\\theta}(X^{j})$ to predict $\\hat{y}$ is defined as:\n",
    "\n",
    "> $h_{\\theta}(X^{j}) = \\hat{y} = X^{j}\\theta = \\sum \\limits _{i=0} ^{n} X^{j}_{i}\\theta_{i}$\n",
    "\n",
    "* Since we want to find $arg_{min}\\theta$, means the $\\theta$ which minimizes above objective function, we compute the derivative of $J(\\theta)$ and find $\\theta$ when it is equal to zero.\n",
    "\n",
    "> $\\nabla J(\\theta) = 0$\n",
    ">\n",
    "> $\\nabla \\frac{1}{2} (X\\theta - y)^{T}(X\\theta - y) = 0$\n",
    "\n",
    "* $\\theta$ is calculated as:\n",
    " \n",
    "> $\\theta = (X^{T}X)^{-1}X^{T}y$\n"
   ]
  },
  {
   "cell_type": "code",
   "execution_count": 6,
   "id": "b30e98b6",
   "metadata": {},
   "outputs": [],
   "source": [
    "class ClosedForm(Regression):\n",
    "    def __init__(self):\n",
    "        super().__init__()\n",
    "    \n",
    "    def fit(self, x_train, y_train):\n",
    "        # implementation of closed-form formula\n",
    "        XT = np.transpose(x_train)\n",
    "        XTX = np.matmul(XT, x_train)\n",
    "        XTX_inv = np.linalg.inv(XTX)\n",
    "        XTX_inv_XT = np.matmul(XTX_inv, XT)\n",
    "        self.theta = np.matmul(XTX_inv_XT, y_train).reshape(len(x_train[0]), 1)\n",
    "\n",
    "        return self.theta\n",
    "    "
   ]
  },
  {
   "cell_type": "markdown",
   "id": "99a995aa",
   "metadata": {},
   "source": [
    "## Closed Form Report"
   ]
  },
  {
   "cell_type": "markdown",
   "id": "e4114eab",
   "metadata": {},
   "source": [
    "### Using \"scale between 0 & 1\" normalization"
   ]
  },
  {
   "cell_type": "code",
   "execution_count": 33,
   "id": "630ae92b",
   "metadata": {},
   "outputs": [
    {
     "name": "stdout",
     "output_type": "stream",
     "text": [
      "scaling to [0, 1] normalization.\n",
      "theta_ 0 :  -0.21953583859344494\n",
      "theta_ 1 :  100.48368423780022\n",
      "MSE on train:  4164.006185786953\n",
      "MSE on test:  1394.3540142796764\n"
     ]
    }
   ],
   "source": [
    "dataset = PreprocessData.Dataset('Data-Train.csv', 'Data-Test.csv', 'y', normalization_method='scale_0_1')\n",
    "# dataset = PreprocessData.Dataset('Data-Train.csv', 'Data-Test.csv', 'y', normalization_method='zero_mean_unit_var')\n",
    "# dataset = PreprocessData.Dataset('Data-Train.csv', 'Data-Test.csv', 'y', normalization_method='none')\n",
    "\n",
    "closed_form = ClosedForm()\n",
    "closed_form.fit(dataset.x_train, dataset.y_train)\n",
    "\n",
    "closed_form.predict(dataset.x_test)\n",
    "\n",
    "closed_form.report(dataset.x_train, dataset.y_train, dataset.x_test, dataset.y_test)"
   ]
  },
  {
   "cell_type": "markdown",
   "id": "b9fea95d",
   "metadata": {},
   "source": [
    "## Closed Form Plot"
   ]
  },
  {
   "cell_type": "code",
   "execution_count": 24,
   "id": "e0687618",
   "metadata": {},
   "outputs": [
    {
     "data": {
      "image/png": "[encoded data removed]",
      "text/plain": [
       "<Figure size 432x288 with 1 Axes>"
      ]
     },
     "metadata": {
      "needs_background": "light"
     },
     "output_type": "display_data"
    },
    {
     "data": {
      "image/png": "[encoded data removed]",
      "text/plain": [
       "<Figure size 432x288 with 1 Axes>"
      ]
     },
     "metadata": {
      "needs_background": "light"
     },
     "output_type": "display_data"
    }
   ],
   "source": [
    "closed_form.plot(dataset.x_train_without_x0, dataset.y_train, dataset.x_train, 'train' , label='closed-form')\n",
    "\n",
    "closed_form.plot(dataset.x_test_without_x0, dataset.y_test, dataset.x_test, 'test' , label='closed-form')"
   ]
  },
  {
   "cell_type": "markdown",
   "id": "324982fa",
   "metadata": {},
   "source": [
    "## Gradient Descent Class\n",
    "\n",
    "Closed form solution might be extremely expensive to compute. Also, it is generally used if it is possible.\n",
    "In those linear regression problems where a closed-form solution exists forexample least square error, it may be impractical to use the formula. e.g. X is a very large sparse matrix which will require a large space to store matrix. \n",
    " \n",
    "Gradient descent is used to minimize objective(or cost) function by repetitively moving in the direction of steepest descent in each epoch (epoch means pass over the training dataset).\n",
    "Here we implement __Batch Gradient Descent__.\n",
    "* The objective function is same as the previous method.\n",
    "> $J(\\theta) = \\frac{1}{2} \\sum \\limits _{j=1} ^{m} (h_{\\theta}(X^{j}) - y^{j}) ^ 2 $\n",
    "* This method updates $\\theta$ after each iteration based on below:\n",
    "> $ \\theta_i = \\theta_i - \\alpha \\frac{\\partial}{\\partial \\theta_i} J(\\theta) $\n",
    "\n",
    "* So we must calculate gradient ($ \\frac{\\partial}{\\partial \\theta_i} J(\\theta) $) :\n",
    "> $ \\frac{\\partial}{\\partial \\theta_i} J(\\theta) = \\frac{\\partial}{\\partial \\theta_i} \\sum \\limits _{j=1} ^{m} \\frac{1}{2} (h_\\theta(X^j) - y^j)^2$ \n",
    ">\n",
    "> $ \\space\\space\\space\\space\\space\\space\\space\\space\\space\\space\\space\\space = \\sum \\limits _{j=1} ^{m} (h_\\theta(X^j) - y^j) x_i^j$\n",
    "\n",
    "* Finally \n",
    "> $ \\theta_i = \\theta_i - \\alpha \\sum \\limits _{j=1} ^{m} (h_\\theta(X^j) - y^j) x_i^j $"
   ]
  },
  {
   "cell_type": "code",
   "execution_count": 16,
   "id": "8de815b7",
   "metadata": {},
   "outputs": [],
   "source": [
    "class BGD(Regression):\n",
    "    def __init__(self, alpha = 0.001, max_iter = 1000):\n",
    "        self.alpha = alpha\n",
    "        self.max_iter = max_iter\n",
    "        self.cost = None\n",
    "        super().__init__()\n",
    "    \n",
    "    \n",
    "    def fit(self, x_train, y_train, eps = 1e-8):\n",
    "        self.x_train = x_train\n",
    "        self.y_train = np.array([y_train]).T    #change to ndarray(m,1)\n",
    "        \n",
    "        n = self.x_train.shape[1]               #number of features\n",
    "        m = self.x_train.shape[0]               #number of samples\n",
    "\n",
    "        self.theta = np.random.rand(n,1)        #initial random theta\n",
    "        \n",
    "        self.cost = []\n",
    "        \n",
    "        for i in range(self.max_iter):\n",
    "            y_hat = self.predict(self.x_train)\n",
    "            \n",
    "            self.theta -= self.alpha*(np.matmul(self.x_train.T, (y_hat - self.y_train)))\n",
    "            \n",
    "            self.cost.append(self.mse(y_hat, self.y_train))\n",
    "            diff = abs(self.mse(y_hat , self.y_train) - self.mse(self.predict(self.x_train) , self.y_train))\n",
    "            if diff <= eps:\n",
    "                print('Iteration', i, 'with difference', diff, 'converged.')\n",
    "                break\n",
    "        return self.theta\n",
    "    \n",
    "    def get_cost(self):\n",
    "        return self.cost\n",
    "    \n",
    "    def plot_cost(self):\n",
    "        plt.figure()\n",
    "        plt.plot(self.cost, label='cost')\n",
    "        plt.show()\n",
    "        return \n"
   ]
  },
  {
   "cell_type": "markdown",
   "id": "solid-vitamin",
   "metadata": {},
   "source": [
    "## Batch Gradient Descent Report\n",
    "\n",
    "### Using \"scale between 0 & 1\" normalization"
   ]
  },
  {
   "cell_type": "code",
   "execution_count": 17,
   "id": "governmental-escape",
   "metadata": {
    "scrolled": true
   },
   "outputs": [
    {
     "name": "stdout",
     "output_type": "stream",
     "text": [
      "scaling to [0, 1] normalization.\n",
      "Iteration 214 with difference 9.349605534225702e-09 converged.\n",
      "theta_ 0 :  -0.21951473193669307\n",
      "theta_ 1 :  100.48364499416822\n",
      "MSE on train:  4164.0061858517\n",
      "MSE on test:  1394.3548388953022\n"
     ]
    }
   ],
   "source": [
    "dataset = PreprocessData.Dataset('Data-Train.csv', 'Data-Test.csv', 'y', normalization_method='scale_0_1')\n",
    "\n",
    "bgd= BGD(alpha=1e-3, max_iter=4000) \n",
    "\n",
    "bgd.fit(dataset.x_train, dataset.y_train)\n",
    "\n",
    "bgd.predict(dataset.x_test)\n",
    "\n",
    "bgd.report(dataset.x_train, dataset.y_train, dataset.x_test, dataset.y_test)"
   ]
  },
  {
   "cell_type": "markdown",
   "id": "demographic-accountability",
   "metadata": {},
   "source": [
    "## Batch Gradient Descent Plot"
   ]
  },
  {
   "cell_type": "code",
   "execution_count": 18,
   "id": "secure-georgia",
   "metadata": {},
   "outputs": [
    {
     "data": {
      "image/png": "[encoded data removed]",
      "text/plain": [
       "<Figure size 432x288 with 1 Axes>"
      ]
     },
     "metadata": {
      "needs_background": "light"
     },
     "output_type": "display_data"
    },
    {
     "data": {
      "image/png": "[encoded data removed]",
      "text/plain": [
       "<Figure size 432x288 with 1 Axes>"
      ]
     },
     "metadata": {
      "needs_background": "light"
     },
     "output_type": "display_data"
    },
    {
     "data": {
      "image/png": "[encoded data removed]",
      "text/plain": [
       "<Figure size 432x288 with 1 Axes>"
      ]
     },
     "metadata": {
      "needs_background": "light"
     },
     "output_type": "display_data"
    }
   ],
   "source": [
    "bgd.plot(dataset.x_train_without_x0, dataset.y_train, dataset.x_train, 'train' , label='batch gradient descent')\n",
    "\n",
    "bgd.plot(dataset.x_test_without_x0, dataset.y_test, dataset.x_test, 'test' , label='batch gradient descent')\n",
    "\n",
    "bgd.plot_cost()"
   ]
  },
  {
   "cell_type": "code",
   "execution_count": 20,
   "id": "64cb46df",
   "metadata": {},
   "outputs": [
    {
     "name": "stdout",
     "output_type": "stream",
     "text": [
      "1624382.320921904\n",
      "4164.00618586105\n"
     ]
    }
   ],
   "source": [
    "print(bgd.get_cost()[0])\n",
    "\n",
    "print(bgd.get_cost()[-1])"
   ]
  }
 ],
 "metadata": {
  "kernelspec": {
   "display_name": "Python 3",
   "language": "python",
   "name": "python3"
  },
  "language_info": {
   "codemirror_mode": {
    "name": "ipython",
    "version": 3
   },
   "file_extension": ".py",
   "mimetype": "text/x-python",
   "name": "python",
   "nbconvert_exporter": "python",
   "pygments_lexer": "ipython3",
   "version": "3.8.8"
  }
 },
 "nbformat": 4,
 "nbformat_minor": 5
}

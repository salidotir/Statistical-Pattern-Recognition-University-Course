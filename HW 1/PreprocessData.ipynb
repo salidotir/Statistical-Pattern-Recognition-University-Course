{
 "cells": [
  {
   "cell_type": "markdown",
   "id": "f8087d6c",
   "metadata": {},
   "source": [
    "# Preprocessing data"
   ]
  },
  {
   "cell_type": "code",
   "execution_count": 2,
   "id": "c80e1688",
   "metadata": {},
   "outputs": [],
   "source": [
    "# imports\n",
    "\n",
    "import numpy as np\n",
    "import pandas as pd"
   ]
  },
  {
   "cell_type": "code",
   "execution_count": 5,
   "id": "a8679c4e",
   "metadata": {},
   "outputs": [],
   "source": [
    "class Dataset:\n",
    "    def __init__(self, data_train_file, data_test_file, output_column_name='y', normalization_method='zero_mean_unit_var'):\n",
    "        \"\"\"\n",
    "        self.x_train                 ->     vector-x0 + data_x_train_normalized\n",
    "        self.x_test                  ->     vector-x0 + data_x_test_normalized\n",
    "        \n",
    "        self.x_train_without_x0      ->     data_x_train_normalized\n",
    "        self.x_test_without_x0       ->     data_x_test_normalized\n",
    "        \n",
    "        self.y_train                 ->     y_train\n",
    "        self.y_test                  ->     y_test\n",
    "        \"\"\"\n",
    "        \n",
    "        # read csv file using pandas\n",
    "        self.data_train = pd.read_csv(data_train_file)\n",
    "        self.data_test = pd.read_csv(data_test_file)\n",
    "        \n",
    "        # export y_train & y_test and convert to numpy array\n",
    "        self.y_train = self.data_train[output_column_name].to_numpy(dtype='float64')\n",
    "        self.y_test = self.data_test[output_column_name].to_numpy(dtype='float64')\n",
    "        \n",
    "        # remove y from x_train & x_test\n",
    "        self.x_train_without_x0 = self.data_train.drop([output_column_name], axis=1).to_numpy(dtype='float64')\n",
    "        self.x_test_without_x0 = self.data_test.drop([output_column_name], axis=1).to_numpy(dtype='float64')\n",
    "        \n",
    "        # required variables for model\n",
    "        self.shape_of_x_train_without_x0 = self.x_train_without_x0.shape\n",
    "        self.shape_of_x_test_without_x0 = self.x_test_without_x0.shape\n",
    "        \n",
    "        self.normalize(normalization_method)\n",
    "        self.x_train, self.x_test = self.add_vector_x0()\n",
    "            \n",
    "        \n",
    "    \"\"\"\n",
    "    Normalizing data improves the convergence of learning model and causes that smaller features also be able to affect the model parameters.\n",
    "    \"\"\"\n",
    "    def normalize(self, normalization_method):\n",
    "        if normalization_method == 'none':\n",
    "            print(\"No normalization.\")\n",
    "            return\n",
    "        \n",
    "        if normalization_method == 'zero_mean_unit_var':\n",
    "            print(\"zero-mean & unit_variance normalization.\")\n",
    "            self.x_train_without_x0 = self.zero_mean_unit_variance(self.x_train_without_x0)\n",
    "            self.x_test_without_x0 = self.zero_mean_unit_variance(self.x_test_without_x0)\n",
    "            \n",
    "            \n",
    "        if normalization_method == 'scale_0_1':\n",
    "            print(\"scaling to [0, 1] normalization.\")\n",
    "            self.x_train_without_x0 = self.scaling_between_0_1(self.x_train_without_x0)\n",
    "            self.x_test_without_x0 = self.scaling_between_0_1(self.x_test_without_x0)\n",
    "     \n",
    "    \n",
    "    def scaling_between_0_1(self, numpy_array):\n",
    "        '''\n",
    "        Scaling\n",
    "        '''\n",
    "        normed_numpy_array = (numpy_array - numpy_array.min(axis=0)) / (numpy_array.max(axis=0) - numpy_array.min(axis=0))\n",
    "        return normed_numpy_array\n",
    "\n",
    "\n",
    "    def zero_mean_unit_variance(self, numpy_array):\n",
    "        '''\n",
    "        Standardization\n",
    "        '''\n",
    "        normed_numpy_array = (numpy_array - numpy_array.mean(axis=0)) / numpy_array.std(axis=0)\n",
    "        return normed_numpy_array\n",
    "\n",
    "    def add_vector_x0(self):\n",
    "        # create a vector of ones for x0 and add to first of x_train & x_test\n",
    "        # to add x0_vector of ones to coloumns, we should use np.c_\n",
    "        # to add x0_vector of ones to rows, we should use np.r_\n",
    "        \n",
    "        x0_vector_train = np.ones(shape=self.y_train.shape)\n",
    "        x0_vector_test = np.ones(shape=self.y_test.shape)\n",
    "        x_train = np.c_[x0_vector_train, self.x_train_without_x0]\n",
    "        x_test = np.c_[x0_vector_test, self.x_test_without_x0]\n",
    "        return x_train, x_test"
   ]
  },
  {
   "cell_type": "code",
   "execution_count": 24,
   "id": "17300af3",
   "metadata": {
    "scrolled": false
   },
   "outputs": [],
   "source": [
    "# dataset = Dataset('Data-Train.csv', 'Data-Test.csv', 'y', normalization_method='zero_mean_unit_var')\n",
    "\n",
    "# print(dataset.x_train.mean(axis=0))\n",
    "# print(dataset.x_train.std(axis=0))\n",
    "\n",
    "# print(dataset.x_test.mean(axis=0))\n",
    "# print(dataset.x_test.std(axis=0))\n"
   ]
  }
 ],
 "metadata": {
  "kernelspec": {
   "display_name": "Python 3",
   "language": "python",
   "name": "python3"
  },
  "language_info": {
   "codemirror_mode": {
    "name": "ipython",
    "version": 3
   },
   "file_extension": ".py",
   "mimetype": "text/x-python",
   "name": "python",
   "nbconvert_exporter": "python",
   "pygments_lexer": "ipython3",
   "version": "3.8.8"
  }
 },
 "nbformat": 4,
 "nbformat_minor": 5
}
